{
 "cells": [
  {
   "cell_type": "markdown",
   "id": "3677a33a-3657-4771-aaca-a1881f87d0fd",
   "metadata": {},
   "source": [
    "# MLB: 배럴률과 OPS의 연관성 검증\n",
    "\n",
    "데이터 출처 : https://baseballsavant.mlb.com/ (외부데이터)"
   ]
  },
  {
   "cell_type": "code",
   "execution_count": 1,
   "id": "b7040f36-ecba-4c08-a61c-9d494a8a7233",
   "metadata": {},
   "outputs": [],
   "source": [
    "import numpy as np \n",
    "import pandas as pd \n",
    "import statsmodels.api as sm\n",
    "\n",
    "# 데이터 불러오기\n",
    "df = pd.read_csv('data/mlb_stats.csv', header='infer',encoding='utf-8-sig')"
   ]
  },
  {
   "cell_type": "code",
   "execution_count": 2,
   "id": "95fdd329-e665-4364-bf85-8d3dbf2ff8da",
   "metadata": {},
   "outputs": [],
   "source": [
    "# 변수명 바꾸기\n",
    "df.columns = ['선수코드', '연도', '나이','타수','1루타', '2루타', '3루타', '홈런',\n",
    "       '타율', '장타율', '출루율', 'OPS','평균타구속도','평균발사각도', '배럴률']"
   ]
  },
  {
   "cell_type": "code",
   "execution_count": 3,
   "id": "09cc7dbc-3201-4738-8d89-5571f0a72ab8",
   "metadata": {},
   "outputs": [
    {
     "data": {
      "text/html": [
       "<table class=\"simpletable\">\n",
       "<caption>OLS Regression Results</caption>\n",
       "<tr>\n",
       "  <th>Dep. Variable:</th>           <td>OPS</td>       <th>  R-squared:         </th> <td>   0.335</td> \n",
       "</tr>\n",
       "<tr>\n",
       "  <th>Model:</th>                   <td>OLS</td>       <th>  Adj. R-squared:    </th> <td>   0.334</td> \n",
       "</tr>\n",
       "<tr>\n",
       "  <th>Method:</th>             <td>Least Squares</td>  <th>  F-statistic:       </th> <td>   1032.</td> \n",
       "</tr>\n",
       "<tr>\n",
       "  <th>Date:</th>             <td>Wed, 15 Sep 2021</td> <th>  Prob (F-statistic):</th> <td>8.74e-184</td>\n",
       "</tr>\n",
       "<tr>\n",
       "  <th>Time:</th>                 <td>02:30:44</td>     <th>  Log-Likelihood:    </th> <td>  1316.0</td> \n",
       "</tr>\n",
       "<tr>\n",
       "  <th>No. Observations:</th>      <td>  2053</td>      <th>  AIC:               </th> <td>  -2628.</td> \n",
       "</tr>\n",
       "<tr>\n",
       "  <th>Df Residuals:</th>          <td>  2051</td>      <th>  BIC:               </th> <td>  -2617.</td> \n",
       "</tr>\n",
       "<tr>\n",
       "  <th>Df Model:</th>              <td>     1</td>      <th>                     </th>     <td> </td>    \n",
       "</tr>\n",
       "<tr>\n",
       "  <th>Covariance Type:</th>      <td>nonrobust</td>    <th>                     </th>     <td> </td>    \n",
       "</tr>\n",
       "</table>\n",
       "<table class=\"simpletable\">\n",
       "<tr>\n",
       "      <td></td>         <th>coef</th>     <th>std err</th>      <th>t</th>      <th>P>|t|</th>  <th>[0.025</th>    <th>0.975]</th>  \n",
       "</tr>\n",
       "<tr>\n",
       "  <th>intercept</th> <td>    0.5559</td> <td>    0.005</td> <td>  107.172</td> <td> 0.000</td> <td>    0.546</td> <td>    0.566</td>\n",
       "</tr>\n",
       "<tr>\n",
       "  <th>배럴률</th>       <td>    0.0202</td> <td>    0.001</td> <td>   32.127</td> <td> 0.000</td> <td>    0.019</td> <td>    0.021</td>\n",
       "</tr>\n",
       "</table>\n",
       "<table class=\"simpletable\">\n",
       "<tr>\n",
       "  <th>Omnibus:</th>       <td>263.511</td> <th>  Durbin-Watson:     </th> <td>   2.020</td>\n",
       "</tr>\n",
       "<tr>\n",
       "  <th>Prob(Omnibus):</th> <td> 0.000</td>  <th>  Jarque-Bera (JB):  </th> <td> 433.661</td>\n",
       "</tr>\n",
       "<tr>\n",
       "  <th>Skew:</th>          <td>-0.868</td>  <th>  Prob(JB):          </th> <td>6.79e-95</td>\n",
       "</tr>\n",
       "<tr>\n",
       "  <th>Kurtosis:</th>      <td> 4.434</td>  <th>  Cond. No.          </th> <td>    15.4</td>\n",
       "</tr>\n",
       "</table><br/><br/>Notes:<br/>[1] Standard Errors assume that the covariance matrix of the errors is correctly specified."
      ],
      "text/plain": [
       "<class 'statsmodels.iolib.summary.Summary'>\n",
       "\"\"\"\n",
       "                            OLS Regression Results                            \n",
       "==============================================================================\n",
       "Dep. Variable:                    OPS   R-squared:                       0.335\n",
       "Model:                            OLS   Adj. R-squared:                  0.334\n",
       "Method:                 Least Squares   F-statistic:                     1032.\n",
       "Date:                Wed, 15 Sep 2021   Prob (F-statistic):          8.74e-184\n",
       "Time:                        02:30:44   Log-Likelihood:                 1316.0\n",
       "No. Observations:                2053   AIC:                            -2628.\n",
       "Df Residuals:                    2051   BIC:                            -2617.\n",
       "Df Model:                           1                                         \n",
       "Covariance Type:            nonrobust                                         \n",
       "==============================================================================\n",
       "                 coef    std err          t      P>|t|      [0.025      0.975]\n",
       "------------------------------------------------------------------------------\n",
       "intercept      0.5559      0.005    107.172      0.000       0.546       0.566\n",
       "배럴률            0.0202      0.001     32.127      0.000       0.019       0.021\n",
       "==============================================================================\n",
       "Omnibus:                      263.511   Durbin-Watson:                   2.020\n",
       "Prob(Omnibus):                  0.000   Jarque-Bera (JB):              433.661\n",
       "Skew:                          -0.868   Prob(JB):                     6.79e-95\n",
       "Kurtosis:                       4.434   Cond. No.                         15.4\n",
       "==============================================================================\n",
       "\n",
       "Notes:\n",
       "[1] Standard Errors assume that the covariance matrix of the errors is correctly specified.\n",
       "\"\"\""
      ]
     },
     "execution_count": 3,
     "metadata": {},
     "output_type": "execute_result"
    }
   ],
   "source": [
    "# OLS Regression\n",
    "df['intercept'] = 1\n",
    "\n",
    "lm = sm.OLS(df['OPS'], df[['intercept', '배럴률']])\n",
    "results = lm.fit()\n",
    "results.summary()"
   ]
  }
 ],
 "metadata": {
  "kernelspec": {
   "display_name": "Python 3",
   "language": "python",
   "name": "python3"
  },
  "language_info": {
   "codemirror_mode": {
    "name": "ipython",
    "version": 3
   },
   "file_extension": ".py",
   "mimetype": "text/x-python",
   "name": "python",
   "nbconvert_exporter": "python",
   "pygments_lexer": "ipython3",
   "version": "3.8.8"
  }
 },
 "nbformat": 4,
 "nbformat_minor": 5
}
