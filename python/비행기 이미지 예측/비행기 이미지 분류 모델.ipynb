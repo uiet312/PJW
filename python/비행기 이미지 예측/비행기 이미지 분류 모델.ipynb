{
 "cells": [
  {
   "cell_type": "code",
   "execution_count": 1,
   "metadata": {},
   "outputs": [],
   "source": [
    "import json\n",
    "import numpy as np\n",
    "import tensorflow as tf\n",
    "from sklearn.model_selection import train_test_split\n",
    "from keras.models import Sequential, Model\n",
    "from keras.layers import Conv2D, MaxPooling2D, Dense, Activation, Dropout, Flatten\n",
    "import matplotlib.pyplot as plt"
   ]
  },
  {
   "cell_type": "markdown",
   "metadata": {},
   "source": [
    "# 데이터 불러오기"
   ]
  },
  {
   "cell_type": "markdown",
   "metadata": {},
   "source": [
    "데이터 출처 : https://www.kaggle.com/rhammell/planesnet?select=planesnet"
   ]
  },
  {
   "cell_type": "code",
   "execution_count": 2,
   "metadata": {},
   "outputs": [
    {
     "data": {
      "text/plain": [
       "dict_keys(['data', 'labels', 'locations', 'scene_ids'])"
      ]
     },
     "execution_count": 2,
     "metadata": {},
     "output_type": "execute_result"
    }
   ],
   "source": [
    "file = open('data/planesnet.json')\n",
    "plane_data = json.load(file)\n",
    "file.close()\n",
    "\n",
    "plane_data.keys()"
   ]
  },
  {
   "cell_type": "markdown",
   "metadata": {},
   "source": [
    "데이터 세트\n",
    "- 비행기 이미지 8000개\n",
    "- 자연 이미지 8000개\n",
    "- 비행기의 일부분 이미지 8000개\n",
    "- 비행기와 유사한 물체 이미지 8000개"
   ]
  },
  {
   "cell_type": "markdown",
   "metadata": {},
   "source": [
    "# 데이터 전처리"
   ]
  },
  {
   "cell_type": "code",
   "execution_count": 3,
   "metadata": {},
   "outputs": [],
   "source": [
    "plane_x = np.array(plane_data['data']).astype('uint8')\n",
    "plane_y = np.array(plane_data['labels']).astype('uint8')\n",
    "plane_yy = np.array(plane_data['labels']).astype('uint8')"
   ]
  },
  {
   "cell_type": "code",
   "execution_count": 4,
   "metadata": {},
   "outputs": [
    {
     "data": {
      "text/plain": [
       "(32000, 1200)"
      ]
     },
     "execution_count": 4,
     "metadata": {},
     "output_type": "execute_result"
    }
   ],
   "source": [
    "plane_x.shape"
   ]
  },
  {
   "cell_type": "code",
   "execution_count": 5,
   "metadata": {},
   "outputs": [
    {
     "data": {
      "text/plain": [
       "(32000, 20, 20, 3)"
      ]
     },
     "execution_count": 5,
     "metadata": {},
     "output_type": "execute_result"
    }
   ],
   "source": [
    "plane_x = plane_x.reshape([-1, 3, 20, 20]).transpose([0,2,3,1])\n",
    "plane_x.shape"
   ]
  },
  {
   "cell_type": "code",
   "execution_count": 6,
   "metadata": {},
   "outputs": [
    {
     "data": {
      "text/plain": [
       "(32000, 2)"
      ]
     },
     "execution_count": 6,
     "metadata": {},
     "output_type": "execute_result"
    }
   ],
   "source": [
    "plane_y = tf.keras.utils.to_categorical(plane_y)\n",
    "plane_y.shape"
   ]
  },
  {
   "cell_type": "code",
   "execution_count": 7,
   "metadata": {},
   "outputs": [],
   "source": [
    "plane_x = plane_x / 255.0"
   ]
  },
  {
   "cell_type": "code",
   "execution_count": 8,
   "metadata": {},
   "outputs": [],
   "source": [
    "plane_x_train, plane_x_test, plane_y_train, plane_y_test = train_test_split(plane_x,plane_y,test_size = 0.2)"
   ]
  },
  {
   "cell_type": "markdown",
   "metadata": {},
   "source": [
    "# 모델 정의"
   ]
  },
  {
   "cell_type": "code",
   "execution_count": 9,
   "metadata": {},
   "outputs": [
    {
     "name": "stdout",
     "output_type": "stream",
     "text": [
      "Model: \"sequential\"\n",
      "_________________________________________________________________\n",
      "Layer (type)                 Output Shape              Param #   \n",
      "=================================================================\n",
      "conv2d (Conv2D)              (None, 16, 16, 32)        2432      \n",
      "_________________________________________________________________\n",
      "conv2d_1 (Conv2D)            (None, 12, 12, 64)        51264     \n",
      "_________________________________________________________________\n",
      "max_pooling2d (MaxPooling2D) (None, 6, 6, 64)          0         \n",
      "_________________________________________________________________\n",
      "dropout (Dropout)            (None, 6, 6, 64)          0         \n",
      "_________________________________________________________________\n",
      "conv2d_2 (Conv2D)            (None, 2, 2, 128)         204928    \n",
      "_________________________________________________________________\n",
      "max_pooling2d_1 (MaxPooling2 (None, 1, 1, 128)         0         \n",
      "_________________________________________________________________\n",
      "dropout_1 (Dropout)          (None, 1, 1, 128)         0         \n",
      "_________________________________________________________________\n",
      "flatten (Flatten)            (None, 128)               0         \n",
      "_________________________________________________________________\n",
      "dense (Dense)                (None, 512)               66048     \n",
      "_________________________________________________________________\n",
      "dropout_2 (Dropout)          (None, 512)               0         \n",
      "_________________________________________________________________\n",
      "dense_1 (Dense)              (None, 128)               65664     \n",
      "_________________________________________________________________\n",
      "dropout_3 (Dropout)          (None, 128)               0         \n",
      "_________________________________________________________________\n",
      "dense_2 (Dense)              (None, 2)                 258       \n",
      "=================================================================\n",
      "Total params: 390,594\n",
      "Trainable params: 390,594\n",
      "Non-trainable params: 0\n",
      "_________________________________________________________________\n"
     ]
    }
   ],
   "source": [
    "model = Sequential([\n",
    "    Conv2D(32, (5,5), activation = 'relu', input_shape=(20, 20, 3)),\n",
    "    Conv2D(64,(5,5), activation = 'relu'),\n",
    "    MaxPooling2D(2,2),\n",
    "    Dropout(0.25),\n",
    "    Conv2D(128,(5,5), activation = 'relu'),\n",
    "    MaxPooling2D(2,2),\n",
    "    Dropout(0.25),\n",
    "    Flatten(),\n",
    "    Dense(512, activation = tf.nn.relu),\n",
    "    Dropout(0.35),\n",
    "    Dense(128, activation = tf.nn.relu),\n",
    "    Dropout(0.35),\n",
    "    Dense(2, activation = tf.nn.softmax)\n",
    "])\n",
    "\n",
    "model.summary()"
   ]
  },
  {
   "cell_type": "markdown",
   "metadata": {},
   "source": [
    "# 모델 컴파일"
   ]
  },
  {
   "cell_type": "code",
   "execution_count": 10,
   "metadata": {},
   "outputs": [],
   "source": [
    "model.compile(optimizer = 'Adam', loss='binary_crossentropy', metrics=['accuracy'])"
   ]
  },
  {
   "cell_type": "markdown",
   "metadata": {},
   "source": [
    "# 모델 학습"
   ]
  },
  {
   "cell_type": "code",
   "execution_count": 11,
   "metadata": {},
   "outputs": [
    {
     "name": "stdout",
     "output_type": "stream",
     "text": [
      "Epoch 1/20\n",
      "100/100 [==============================] - 14s 142ms/step - loss: 0.4622 - accuracy: 0.7771 - val_loss: 0.3173 - val_accuracy: 0.8611\n",
      "Epoch 2/20\n",
      "100/100 [==============================] - 14s 144ms/step - loss: 0.2926 - accuracy: 0.8692 - val_loss: 0.1970 - val_accuracy: 0.9216\n",
      "Epoch 3/20\n",
      "100/100 [==============================] - 15s 147ms/step - loss: 0.1791 - accuracy: 0.9286 - val_loss: 0.1344 - val_accuracy: 0.9505\n",
      "Epoch 4/20\n",
      "100/100 [==============================] - 15s 148ms/step - loss: 0.1416 - accuracy: 0.9455 - val_loss: 0.1032 - val_accuracy: 0.9630\n",
      "Epoch 5/20\n",
      "100/100 [==============================] - 16s 155ms/step - loss: 0.1160 - accuracy: 0.9555 - val_loss: 0.0894 - val_accuracy: 0.9691\n",
      "Epoch 6/20\n",
      "100/100 [==============================] - 15s 152ms/step - loss: 0.1017 - accuracy: 0.9620 - val_loss: 0.0881 - val_accuracy: 0.9684\n",
      "Epoch 7/20\n",
      "100/100 [==============================] - 15s 150ms/step - loss: 0.0984 - accuracy: 0.9624 - val_loss: 0.0742 - val_accuracy: 0.9734\n",
      "Epoch 8/20\n",
      "100/100 [==============================] - 15s 152ms/step - loss: 0.0940 - accuracy: 0.9642 - val_loss: 0.0663 - val_accuracy: 0.9752\n",
      "Epoch 9/20\n",
      "100/100 [==============================] - 15s 151ms/step - loss: 0.0820 - accuracy: 0.9704 - val_loss: 0.0733 - val_accuracy: 0.9747\n",
      "Epoch 10/20\n",
      "100/100 [==============================] - 15s 151ms/step - loss: 0.0721 - accuracy: 0.9727 - val_loss: 0.0609 - val_accuracy: 0.9777\n",
      "Epoch 11/20\n",
      "100/100 [==============================] - 16s 156ms/step - loss: 0.0842 - accuracy: 0.9686 - val_loss: 0.0798 - val_accuracy: 0.9727\n",
      "Epoch 12/20\n",
      "100/100 [==============================] - 15s 152ms/step - loss: 0.0686 - accuracy: 0.9742 - val_loss: 0.0722 - val_accuracy: 0.9739\n",
      "Epoch 13/20\n",
      "100/100 [==============================] - 15s 151ms/step - loss: 0.0617 - accuracy: 0.9775 - val_loss: 0.0542 - val_accuracy: 0.9809\n",
      "Epoch 14/20\n",
      "100/100 [==============================] - 15s 151ms/step - loss: 0.0649 - accuracy: 0.9770 - val_loss: 0.0552 - val_accuracy: 0.9817\n",
      "Epoch 15/20\n",
      "100/100 [==============================] - 15s 151ms/step - loss: 0.0610 - accuracy: 0.9775 - val_loss: 0.0560 - val_accuracy: 0.9805\n",
      "Epoch 16/20\n",
      "100/100 [==============================] - 15s 151ms/step - loss: 0.0548 - accuracy: 0.9798 - val_loss: 0.0817 - val_accuracy: 0.9728\n",
      "Epoch 17/20\n",
      "100/100 [==============================] - 15s 151ms/step - loss: 0.0552 - accuracy: 0.9804 - val_loss: 0.0499 - val_accuracy: 0.9825\n",
      "Epoch 18/20\n",
      "100/100 [==============================] - 18s 179ms/step - loss: 0.0500 - accuracy: 0.9819 - val_loss: 0.0540 - val_accuracy: 0.9805\n",
      "Epoch 19/20\n",
      "100/100 [==============================] - 19s 185ms/step - loss: 0.0529 - accuracy: 0.9811 - val_loss: 0.0572 - val_accuracy: 0.9797\n",
      "Epoch 20/20\n",
      "100/100 [==============================] - 17s 174ms/step - loss: 0.0498 - accuracy: 0.9825 - val_loss: 0.0491 - val_accuracy: 0.9844\n"
     ]
    }
   ],
   "source": [
    "plane_model = model.fit(plane_x_train, plane_y_train, epochs=20, batch_size=256, validation_data=(plane_x_test,plane_y_test))"
   ]
  },
  {
   "cell_type": "markdown",
   "metadata": {},
   "source": [
    "# 모델 테스트"
   ]
  },
  {
   "cell_type": "code",
   "execution_count": 12,
   "metadata": {},
   "outputs": [],
   "source": [
    "plane_classes = {0: 'No Plane',\n",
    "                 1: 'Plane'}\n",
    "\n",
    "classification_plane = model.predict(plane_x_train)"
   ]
  },
  {
   "cell_type": "code",
   "execution_count": 13,
   "metadata": {},
   "outputs": [
    {
     "name": "stdout",
     "output_type": "stream",
     "text": [
      "실제 Plane.\n",
      "예측 No Plane.\n"
     ]
    }
   ],
   "source": [
    "print('실제 {}.'.format(plane_classes[plane_yy[1]]))\n",
    "\n",
    "print('예측 {}.'.format(plane_classes[np.argmax(classification_plane[1])]))"
   ]
  },
  {
   "cell_type": "markdown",
   "metadata": {},
   "source": [
    "# 모델 평가"
   ]
  },
  {
   "cell_type": "code",
   "execution_count": 14,
   "metadata": {},
   "outputs": [
    {
     "name": "stdout",
     "output_type": "stream",
     "text": [
      "800/800 [==============================] - 5s 7ms/step - loss: 0.0208 - accuracy: 0.9937\n"
     ]
    },
    {
     "data": {
      "text/plain": [
       "[0.0207714531570673, 0.9936718940734863]"
      ]
     },
     "execution_count": 14,
     "metadata": {},
     "output_type": "execute_result"
    }
   ],
   "source": [
    "model.evaluate(plane_x_train, plane_y_train)"
   ]
  },
  {
   "cell_type": "code",
   "execution_count": 15,
   "metadata": {},
   "outputs": [
    {
     "data": {
      "image/png": "[encoded data removed]",
      "text/plain": [
       "<Figure size 432x288 with 1 Axes>"
      ]
     },
     "metadata": {
      "needs_background": "light"
     },
     "output_type": "display_data"
    },
    {
     "data": {
      "text/plain": [
       "<matplotlib.legend.Legend at 0x214856954c0>"
      ]
     },
     "execution_count": 15,
     "metadata": {},
     "output_type": "execute_result"
    },
    {
     "data": {
      "image/png": "[encoded data removed]",
      "text/plain": [
       "<Figure size 432x288 with 1 Axes>"
      ]
     },
     "metadata": {
      "needs_background": "light"
     },
     "output_type": "display_data"
    }
   ],
   "source": [
    "loss_plane = plane_model.history['loss']\n",
    "val_loss_plane = plane_model.history['val_loss']\n",
    "acc_plane = plane_model.history['accuracy']\n",
    "val_acc_plane = plane_model.history['val_accuracy']\n",
    "\n",
    "plt.plot(loss_plane)\n",
    "plt.plot(val_loss_plane, 'r')\n",
    "plt.xlabel('Epochs')\n",
    "plt.ylabel('Loss')\n",
    "plt.title('Loss')\n",
    "plt.legend([\"Training\", \"Validation\"])\n",
    "\n",
    "plt.show()\n",
    "\n",
    "plt.plot(acc_plane)\n",
    "plt.plot(val_acc_plane, 'r')\n",
    "plt.xlabel('Epochs')\n",
    "plt.ylabel('Accuracy')\n",
    "plt.title('Accuracy')\n",
    "plt.legend(['Training', 'Validation'], loc=4)"
   ]
  },
  {
   "cell_type": "code",
   "execution_count": null,
   "metadata": {},
   "outputs": [],
   "source": []
  }
 ],
 "metadata": {
  "kernelspec": {
   "display_name": "Python 3",
   "language": "python",
   "name": "python3"
  },
  "language_info": {
   "codemirror_mode": {
    "name": "ipython",
    "version": 3
   },
   "file_extension": ".py",
   "mimetype": "text/x-python",
   "name": "python",
   "nbconvert_exporter": "python",
   "pygments_lexer": "ipython3",
   "version": "3.8.3"
  }
 },
 "nbformat": 4,
 "nbformat_minor": 4
}
