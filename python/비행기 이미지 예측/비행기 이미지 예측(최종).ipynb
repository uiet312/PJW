{
 "cells": [
  {
   "cell_type": "code",
   "execution_count": 1,
   "metadata": {},
   "outputs": [
    {
     "name": "stderr",
     "output_type": "stream",
     "text": [
      "Using TensorFlow backend.\n"
     ]
    }
   ],
   "source": [
    "#from __future__ import absolute_import, division, print_function\n",
    "from sklearn.model_selection import train_test_split\n",
    "from keras.utils import to_categorical\n",
    "import pandas as pd\n",
    "import numpy as np\n",
    "import time\n",
    "import os\n",
    "import matplotlib.pyplot as plt\n",
    "#import json, sys, random\n",
    "import json\n",
    "from sklearn.metrics import accuracy_score\n",
    "import numpy as np \n",
    "import pandas as pd \n",
    "import matplotlib.pyplot as plt\n",
    "from sklearn.model_selection import train_test_split\n",
    "from sklearn.preprocessing import MinMaxScaler\n",
    "from keras.models import Sequential, Model\n",
    "from keras.layers import Conv2D, MaxPooling2D, Dense, Activation, Dropout, Flatten\n",
    "from keras.layers.normalization import BatchNormalization\n",
    "from keras.optimizers import Adam\n",
    "from keras.callbacks import LearningRateScheduler\n",
    "from keras.regularizers import l2, l1\n",
    "import tensorflow as tf"
   ]
  },
  {
   "cell_type": "code",
   "execution_count": 6,
   "metadata": {},
   "outputs": [],
   "source": [
    "import json\n",
    "import numpy as np"
   ]
  },
  {
   "cell_type": "code",
   "execution_count": 4,
   "metadata": {},
   "outputs": [
    {
     "data": {
      "text/plain": [
       "dict_keys(['data', 'labels', 'locations', 'scene_ids'])"
      ]
     },
     "execution_count": 4,
     "metadata": {},
     "output_type": "execute_result"
    }
   ],
   "source": [
    "f_plane = open('data/planesnet.json')\n",
    "plane_dataset = json.load(f_plane)\n",
    "f_plane.close()\n",
    "\n",
    "plane_dataset.keys()"
   ]
  },
  {
   "cell_type": "markdown",
   "metadata": {},
   "source": [
    "데이터 구성 : 비행기 8000개, 자연 이미지 8000개, 비행기의 일부분8000개, 비행기와 유사한 물체 8000개\n"
   ]
  },
  {
   "cell_type": "code",
   "execution_count": 7,
   "metadata": {},
   "outputs": [],
   "source": [
    "plane_x = np.array(plane_dataset['data']).astype('uint8')\n",
    "plane_y = np.array(plane_dataset['labels']).astype('uint8')\n",
    "plane_yy = np.array(plane_dataset['labels']).astype('uint8')"
   ]
  },
  {
   "cell_type": "code",
   "execution_count": 8,
   "metadata": {},
   "outputs": [
    {
     "data": {
      "text/plain": [
       "(32000, 1200)"
      ]
     },
     "execution_count": 8,
     "metadata": {},
     "output_type": "execute_result"
    }
   ],
   "source": [
    "plane_x.shape"
   ]
  },
  {
   "cell_type": "code",
   "execution_count": 10,
   "metadata": {},
   "outputs": [
    {
     "data": {
      "text/plain": [
       "array([[206, 195, 187, ..., 224, 194, 164],\n",
       "       [215, 209, 200, ..., 205, 207, 210],\n",
       "       [204, 214, 220, ..., 167, 163, 157],\n",
       "       ...,\n",
       "       [121, 121, 119, ..., 175, 178, 156],\n",
       "       [172, 190, 202, ..., 210, 203, 192],\n",
       "       [161, 172, 189, ..., 137, 123, 140]], dtype=uint8)"
      ]
     },
     "execution_count": 10,
     "metadata": {},
     "output_type": "execute_result"
    }
   ],
   "source": [
    "plane_x"
   ]
  },
  {
   "cell_type": "code",
   "execution_count": 11,
   "metadata": {},
   "outputs": [
    {
     "data": {
      "text/plain": [
       "(32000, 20, 20, 3)"
      ]
     },
     "execution_count": 11,
     "metadata": {},
     "output_type": "execute_result"
    }
   ],
   "source": [
    "plane_x = plane_x.reshape([-1, 3, 20, 20]).transpose([0,2,3,1])\n",
    "plane_x.shape"
   ]
  },
  {
   "cell_type": "code",
   "execution_count": 12,
   "metadata": {},
   "outputs": [
    {
     "ename": "NameError",
     "evalue": "name 'tf' is not defined",
     "output_type": "error",
     "traceback": [
      "\u001b[1;31m---------------------------------------------------------------------------\u001b[0m",
      "\u001b[1;31mNameError\u001b[0m                                 Traceback (most recent call last)",
      "\u001b[1;32m<ipython-input-12-b820eb012ba5>\u001b[0m in \u001b[0;36m<module>\u001b[1;34m\u001b[0m\n\u001b[1;32m----> 1\u001b[1;33m \u001b[0mplane_y\u001b[0m \u001b[1;33m=\u001b[0m \u001b[0mtf\u001b[0m\u001b[1;33m.\u001b[0m\u001b[0mkeras\u001b[0m\u001b[1;33m.\u001b[0m\u001b[0mutils\u001b[0m\u001b[1;33m.\u001b[0m\u001b[0mto_categorical\u001b[0m\u001b[1;33m(\u001b[0m\u001b[0mplane_y\u001b[0m\u001b[1;33m)\u001b[0m\u001b[1;33m\u001b[0m\u001b[1;33m\u001b[0m\u001b[0m\n\u001b[0m\u001b[0;32m      2\u001b[0m \u001b[0mplane_y\u001b[0m\u001b[1;33m.\u001b[0m\u001b[0mshape\u001b[0m\u001b[1;33m\u001b[0m\u001b[1;33m\u001b[0m\u001b[0m\n",
      "\u001b[1;31mNameError\u001b[0m: name 'tf' is not defined"
     ]
    }
   ],
   "source": [
    "plane_y = tf.keras.utils.to_categorical(plane_y)\n",
    "plane_y.shape"
   ]
  },
  {
   "cell_type": "code",
   "execution_count": 9,
   "metadata": {},
   "outputs": [],
   "source": [
    "plane_x = plane_x / 255.0"
   ]
  },
  {
   "cell_type": "code",
   "execution_count": 10,
   "metadata": {},
   "outputs": [],
   "source": [
    "plane_classes = {0: 'No Plane',\n",
    "                 1: 'Plane'}"
   ]
  },
  {
   "cell_type": "code",
   "execution_count": 11,
   "metadata": {},
   "outputs": [],
   "source": [
    "plane_x_train, plane_x_test, plane_y_train, plane_y_test = train_test_split(plane_x,plane_y,test_size = 0.2)"
   ]
  },
  {
   "cell_type": "code",
   "execution_count": 12,
   "metadata": {},
   "outputs": [
    {
     "name": "stdout",
     "output_type": "stream",
     "text": [
      "Model: \"sequential_1\"\n",
      "_________________________________________________________________\n",
      "Layer (type)                 Output Shape              Param #   \n",
      "=================================================================\n",
      "conv2d_1 (Conv2D)            (None, 20, 20, 32)        2432      \n",
      "_________________________________________________________________\n",
      "conv2d_2 (Conv2D)            (None, 16, 16, 64)        51264     \n",
      "_________________________________________________________________\n",
      "max_pooling2d_1 (MaxPooling2 (None, 8, 8, 64)          0         \n",
      "_________________________________________________________________\n",
      "dropout_1 (Dropout)          (None, 8, 8, 64)          0         \n",
      "_________________________________________________________________\n",
      "conv2d_3 (Conv2D)            (None, 4, 4, 128)         204928    \n",
      "_________________________________________________________________\n",
      "max_pooling2d_2 (MaxPooling2 (None, 2, 2, 128)         0         \n",
      "_________________________________________________________________\n",
      "dropout_2 (Dropout)          (None, 2, 2, 128)         0         \n",
      "_________________________________________________________________\n",
      "flatten_1 (Flatten)          (None, 512)               0         \n",
      "_________________________________________________________________\n",
      "dense_1 (Dense)              (None, 512)               262656    \n",
      "_________________________________________________________________\n",
      "dropout_3 (Dropout)          (None, 512)               0         \n",
      "_________________________________________________________________\n",
      "dense_2 (Dense)              (None, 128)               65664     \n",
      "_________________________________________________________________\n",
      "dropout_4 (Dropout)          (None, 128)               0         \n",
      "_________________________________________________________________\n",
      "dense_3 (Dense)              (None, 2)                 258       \n",
      "=================================================================\n",
      "Total params: 587,202\n",
      "Trainable params: 587,202\n",
      "Non-trainable params: 0\n",
      "_________________________________________________________________\n"
     ]
    }
   ],
   "source": [
    "input_shape = (20, 20, 3)\n",
    "\n",
    "model = Sequential()\n",
    "model.add(Conv2D(32, (5,5), activation = 'relu', input_shape = input_shape , padding = 'same'))\n",
    "model.add(Conv2D(64,(5,5), activation = 'relu'))\n",
    "model.add(MaxPooling2D(2,2))\n",
    "model.add(Dropout(0.25))\n",
    "model.add(Conv2D(128,(5,5), activation = 'relu'))\n",
    "model.add(MaxPooling2D(2,2))\n",
    "model.add(Dropout(0.25))\n",
    "model.add(Flatten())\n",
    "model.add(Dense(512, activation = tf.nn.relu))\n",
    "model.add(Dropout(0.35))\n",
    "model.add(Dense(128, activation = tf.nn.relu))\n",
    "model.add(Dropout(0.35))\n",
    "model.add(Dense(2, activation = tf.nn.softmax))\n",
    "    \n",
    "model.summary()\n",
    "   "
   ]
  },
  {
   "cell_type": "code",
   "execution_count": 13,
   "metadata": {},
   "outputs": [],
   "source": [
    "training_plane = model\n",
    "\n",
    "training_plane.compile(optimizer = Adam(), loss='binary_crossentropy', metrics=['accuracy'])"
   ]
  },
  {
   "cell_type": "code",
   "execution_count": 14,
   "metadata": {},
   "outputs": [
    {
     "name": "stdout",
     "output_type": "stream",
     "text": [
      "Train on 25600 samples, validate on 6400 samples\n",
      "Epoch 1/30\n",
      "25600/25600 [==============================] - 9s 349us/step - loss: 0.4938 - accuracy: 0.7658 - val_loss: 0.3075 - val_accuracy: 0.8683\n",
      "Epoch 2/30\n",
      "25600/25600 [==============================] - 5s 176us/step - loss: 0.2314 - accuracy: 0.9038 - val_loss: 0.1920 - val_accuracy: 0.9178\n",
      "Epoch 3/30\n",
      "25600/25600 [==============================] - 4s 173us/step - loss: 0.1532 - accuracy: 0.9416 - val_loss: 0.1337 - val_accuracy: 0.9441\n",
      "Epoch 4/30\n",
      "25600/25600 [==============================] - 4s 172us/step - loss: 0.1190 - accuracy: 0.9539 - val_loss: 0.0902 - val_accuracy: 0.9655\n",
      "Epoch 5/30\n",
      "25600/25600 [==============================] - 4s 173us/step - loss: 0.1063 - accuracy: 0.9595 - val_loss: 0.0943 - val_accuracy: 0.9631\n",
      "Epoch 6/30\n",
      "25600/25600 [==============================] - 4s 170us/step - loss: 0.1171 - accuracy: 0.9546 - val_loss: 0.0863 - val_accuracy: 0.9666\n",
      "Epoch 7/30\n",
      "25600/25600 [==============================] - 4s 171us/step - loss: 0.0899 - accuracy: 0.9665 - val_loss: 0.0899 - val_accuracy: 0.9663\n",
      "Epoch 8/30\n",
      "25600/25600 [==============================] - 4s 171us/step - loss: 0.0835 - accuracy: 0.9683 - val_loss: 0.0781 - val_accuracy: 0.9705\n",
      "Epoch 9/30\n",
      "25600/25600 [==============================] - 4s 171us/step - loss: 0.0653 - accuracy: 0.9762 - val_loss: 0.0728 - val_accuracy: 0.9734\n",
      "Epoch 10/30\n",
      "25600/25600 [==============================] - 4s 173us/step - loss: 0.0655 - accuracy: 0.9765 - val_loss: 0.0613 - val_accuracy: 0.9787\n",
      "Epoch 11/30\n",
      "25600/25600 [==============================] - 4s 171us/step - loss: 0.0704 - accuracy: 0.9750 - val_loss: 0.0624 - val_accuracy: 0.9784\n",
      "Epoch 12/30\n",
      "25600/25600 [==============================] - 4s 172us/step - loss: 0.0581 - accuracy: 0.9796 - val_loss: 0.0520 - val_accuracy: 0.9827\n",
      "Epoch 13/30\n",
      "25600/25600 [==============================] - 4s 172us/step - loss: 0.0607 - accuracy: 0.9775 - val_loss: 0.0657 - val_accuracy: 0.9772\n",
      "Epoch 14/30\n",
      "25600/25600 [==============================] - 4s 172us/step - loss: 0.0519 - accuracy: 0.9808 - val_loss: 0.0952 - val_accuracy: 0.9641\n",
      "Epoch 15/30\n",
      "25600/25600 [==============================] - 4s 172us/step - loss: 0.0533 - accuracy: 0.9814 - val_loss: 0.0566 - val_accuracy: 0.9800\n",
      "Epoch 16/30\n",
      "25600/25600 [==============================] - 4s 171us/step - loss: 0.0444 - accuracy: 0.9832 - val_loss: 0.0501 - val_accuracy: 0.9839\n",
      "Epoch 17/30\n",
      "25600/25600 [==============================] - 4s 173us/step - loss: 0.0445 - accuracy: 0.9846 - val_loss: 0.0600 - val_accuracy: 0.9817\n",
      "Epoch 18/30\n",
      "25600/25600 [==============================] - 4s 172us/step - loss: 0.0429 - accuracy: 0.9850 - val_loss: 0.0767 - val_accuracy: 0.9725\n",
      "Epoch 19/30\n",
      "25600/25600 [==============================] - 4s 172us/step - loss: 0.0450 - accuracy: 0.9835 - val_loss: 0.0499 - val_accuracy: 0.9822\n",
      "Epoch 20/30\n",
      "25600/25600 [==============================] - 4s 171us/step - loss: 0.0535 - accuracy: 0.9803 - val_loss: 0.0503 - val_accuracy: 0.9823\n",
      "Epoch 21/30\n",
      "25600/25600 [==============================] - 4s 171us/step - loss: 0.0367 - accuracy: 0.9866 - val_loss: 0.0431 - val_accuracy: 0.9862\n",
      "Epoch 22/30\n",
      "25600/25600 [==============================] - 4s 172us/step - loss: 0.0350 - accuracy: 0.9883 - val_loss: 0.0577 - val_accuracy: 0.9805\n",
      "Epoch 23/30\n",
      "25600/25600 [==============================] - 4s 171us/step - loss: 0.0408 - accuracy: 0.9847 - val_loss: 0.0520 - val_accuracy: 0.9823\n",
      "Epoch 24/30\n",
      "25600/25600 [==============================] - 4s 173us/step - loss: 0.0369 - accuracy: 0.9863 - val_loss: 0.0492 - val_accuracy: 0.9830\n",
      "Epoch 25/30\n",
      "25600/25600 [==============================] - 4s 170us/step - loss: 0.0312 - accuracy: 0.9880 - val_loss: 0.0410 - val_accuracy: 0.9878\n",
      "Epoch 26/30\n",
      "25600/25600 [==============================] - 4s 171us/step - loss: 0.0289 - accuracy: 0.9895 - val_loss: 0.0541 - val_accuracy: 0.9834\n",
      "Epoch 27/30\n",
      "25600/25600 [==============================] - 4s 171us/step - loss: 0.0329 - accuracy: 0.9879 - val_loss: 0.0470 - val_accuracy: 0.9841\n",
      "Epoch 28/30\n",
      "25600/25600 [==============================] - 4s 171us/step - loss: 0.0326 - accuracy: 0.9880 - val_loss: 0.0578 - val_accuracy: 0.9839\n",
      "Epoch 29/30\n",
      "25600/25600 [==============================] - 4s 171us/step - loss: 0.0354 - accuracy: 0.9870 - val_loss: 0.0517 - val_accuracy: 0.9852\n",
      "Epoch 30/30\n",
      "25600/25600 [==============================] - 4s 172us/step - loss: 0.0284 - accuracy: 0.9898 - val_loss: 0.0465 - val_accuracy: 0.9861\n"
     ]
    }
   ],
   "source": [
    "aaa = model.fit(plane_x_train, plane_y_train, epochs=30, batch_size=256, validation_data=(plane_x_test,plane_y_test))"
   ]
  },
  {
   "cell_type": "code",
   "execution_count": 15,
   "metadata": {},
   "outputs": [
    {
     "name": "stdout",
     "output_type": "stream",
     "text": [
      "25600/25600 [==============================] - 3s 131us/step\n"
     ]
    }
   ],
   "source": [
    "model.evaluate(plane_x_train, plane_y_train)\n",
    "\n",
    "classification_plane = model.predict(plane_x_train)"
   ]
  },
  {
   "cell_type": "code",
   "execution_count": 16,
   "metadata": {},
   "outputs": [
    {
     "data": {
      "text/plain": [
       "array([[9.9999785e-01, 2.1383717e-06],\n",
       "       [4.2073861e-02, 9.5792615e-01],\n",
       "       [1.0000000e+00, 2.3000539e-09],\n",
       "       ...,\n",
       "       [1.0000000e+00, 1.0869708e-08],\n",
       "       [1.7083781e-06, 9.9999833e-01],\n",
       "       [7.6580781e-01, 2.3419225e-01]], dtype=float32)"
      ]
     },
     "execution_count": 16,
     "metadata": {},
     "output_type": "execute_result"
    }
   ],
   "source": [
    "classification_plane"
   ]
  },
  {
   "cell_type": "code",
   "execution_count": 17,
   "metadata": {},
   "outputs": [
    {
     "data": {
      "text/plain": [
       "array([1, 1, 1, ..., 0, 0, 0], dtype=uint8)"
      ]
     },
     "execution_count": 17,
     "metadata": {},
     "output_type": "execute_result"
    }
   ],
   "source": [
    "plane_yy"
   ]
  },
  {
   "cell_type": "code",
   "execution_count": 18,
   "metadata": {},
   "outputs": [
    {
     "name": "stdout",
     "output_type": "stream",
     "text": [
      "실제 Plane.\n",
      "예측 Plane.\n"
     ]
    }
   ],
   "source": [
    "print('실제 {}.'.format(plane_classes[plane_yy[1]]))\n",
    "\n",
    "print('예측 {}.'.format(plane_classes[np.argmax(classification_plane[1])]))"
   ]
  },
  {
   "cell_type": "code",
   "execution_count": 19,
   "metadata": {},
   "outputs": [
    {
     "data": {
      "text/plain": [
       "{'val_loss': [0.3074572020769119,\n",
       "  0.19204331517219544,\n",
       "  0.13369501650333404,\n",
       "  0.0902183474600315,\n",
       "  0.09434514045715332,\n",
       "  0.08629183262586594,\n",
       "  0.08993137151002883,\n",
       "  0.07809774905443191,\n",
       "  0.07276066303253174,\n",
       "  0.06126626163721085,\n",
       "  0.062363489717245105,\n",
       "  0.051960961073637006,\n",
       "  0.06571235552430153,\n",
       "  0.09524167165160179,\n",
       "  0.056571534126996996,\n",
       "  0.05012422680854797,\n",
       "  0.0599958024173975,\n",
       "  0.07671867042779923,\n",
       "  0.04991542868316173,\n",
       "  0.050311100780963895,\n",
       "  0.04313541941344738,\n",
       "  0.057674750462174414,\n",
       "  0.05202202271670103,\n",
       "  0.04924692071974277,\n",
       "  0.041029538325965405,\n",
       "  0.05412965640425682,\n",
       "  0.047047893181443215,\n",
       "  0.057788245379924774,\n",
       "  0.05173011858016253,\n",
       "  0.04650797463953495],\n",
       " 'val_accuracy': [0.8682812452316284,\n",
       "  0.9178125262260437,\n",
       "  0.9440624713897705,\n",
       "  0.9654687643051147,\n",
       "  0.9631249904632568,\n",
       "  0.9665625095367432,\n",
       "  0.9662500023841858,\n",
       "  0.9704687595367432,\n",
       "  0.973437488079071,\n",
       "  0.9787499904632568,\n",
       "  0.9784374833106995,\n",
       "  0.9826562404632568,\n",
       "  0.9771875143051147,\n",
       "  0.964062511920929,\n",
       "  0.9800000190734863,\n",
       "  0.9839062690734863,\n",
       "  0.9817187786102295,\n",
       "  0.9725000262260437,\n",
       "  0.9821875095367432,\n",
       "  0.9823437333106995,\n",
       "  0.9862499833106995,\n",
       "  0.98046875,\n",
       "  0.9823437333106995,\n",
       "  0.9829687476158142,\n",
       "  0.9878125190734863,\n",
       "  0.9834374785423279,\n",
       "  0.9840624928474426,\n",
       "  0.9839062690734863,\n",
       "  0.985156238079071,\n",
       "  0.9860937595367432],\n",
       " 'loss': [0.49381318628787996,\n",
       "  0.2313728740811348,\n",
       "  0.15316126063466073,\n",
       "  0.11896558664739132,\n",
       "  0.10634846709668637,\n",
       "  0.1171009549498558,\n",
       "  0.08992681723088027,\n",
       "  0.08347347542643548,\n",
       "  0.0653158568404615,\n",
       "  0.065518568623811,\n",
       "  0.07039529958739876,\n",
       "  0.05809351459145546,\n",
       "  0.06068308003246784,\n",
       "  0.051943151177838445,\n",
       "  0.05332911382429302,\n",
       "  0.044409759137779475,\n",
       "  0.04447313307784498,\n",
       "  0.04289789800532162,\n",
       "  0.044986435640603305,\n",
       "  0.05351355475373566,\n",
       "  0.036697123125195505,\n",
       "  0.034989041723310944,\n",
       "  0.040774204563349487,\n",
       "  0.03691157997585833,\n",
       "  0.031159147741273045,\n",
       "  0.028912527828942984,\n",
       "  0.03287151647731662,\n",
       "  0.032595374761149286,\n",
       "  0.03543043264187872,\n",
       "  0.028359457030892373],\n",
       " 'accuracy': [0.7657812,\n",
       "  0.90382814,\n",
       "  0.9416016,\n",
       "  0.95390624,\n",
       "  0.95953125,\n",
       "  0.95464844,\n",
       "  0.9665234,\n",
       "  0.96828127,\n",
       "  0.97617185,\n",
       "  0.97648436,\n",
       "  0.97503906,\n",
       "  0.9796484,\n",
       "  0.9775,\n",
       "  0.9808203,\n",
       "  0.9814453,\n",
       "  0.9832422,\n",
       "  0.98460937,\n",
       "  0.98503906,\n",
       "  0.9835156,\n",
       "  0.9803125,\n",
       "  0.9865625,\n",
       "  0.98828125,\n",
       "  0.9846875,\n",
       "  0.9863281,\n",
       "  0.9880078,\n",
       "  0.98945314,\n",
       "  0.9878906,\n",
       "  0.9880469,\n",
       "  0.98695314,\n",
       "  0.9898047]}"
      ]
     },
     "execution_count": 19,
     "metadata": {},
     "output_type": "execute_result"
    }
   ],
   "source": [
    "aaa.history"
   ]
  },
  {
   "cell_type": "code",
   "execution_count": 22,
   "metadata": {},
   "outputs": [
    {
     "data": {
      "image/png": "[encoded data removed]",
      "text/plain": [
       "<Figure size 432x288 with 1 Axes>"
      ]
     },
     "metadata": {
      "needs_background": "light"
     },
     "output_type": "display_data"
    },
    {
     "data": {
      "text/plain": [
       "<matplotlib.legend.Legend at 0x268cfa58388>"
      ]
     },
     "execution_count": 22,
     "metadata": {},
     "output_type": "execute_result"
    },
    {
     "data": {
      "image/png": "[encoded data removed]",
      "text/plain": [
       "<Figure size 432x288 with 1 Axes>"
      ]
     },
     "metadata": {
      "needs_background": "light"
     },
     "output_type": "display_data"
    }
   ],
   "source": [
    "loss_plane = aaa.history['loss']\n",
    "val_loss_plane = aaa.history['val_loss']\n",
    "acc_plane = aaa.history['accuracy']\n",
    "val_acc_plane = aaa.history['val_accuracy']\n",
    "\n",
    "plt.plot(loss_plane)\n",
    "plt.plot(val_loss_plane, 'r')\n",
    "plt.xlabel('Epochs')\n",
    "plt.ylabel('Loss')\n",
    "plt.title('Loss')\n",
    "plt.legend([\"Training\", \"Validation\"])\n",
    "\n",
    "plt.show()\n",
    "\n",
    "plt.plot(acc_plane)\n",
    "plt.plot(val_acc_plane, 'r')\n",
    "plt.xlabel('Epochs')\n",
    "plt.ylabel('Accuracy')\n",
    "plt.title('Accuracy')\n",
    "plt.legend(['Training', 'Validation'], loc=4)"
   ]
  },
  {
   "cell_type": "code",
   "execution_count": null,
   "metadata": {},
   "outputs": [],
   "source": []
  },
  {
   "cell_type": "code",
   "execution_count": null,
   "metadata": {},
   "outputs": [],
   "source": []
  },
  {
   "cell_type": "code",
   "execution_count": null,
   "metadata": {},
   "outputs": [],
   "source": []
  },
  {
   "cell_type": "code",
   "execution_count": null,
   "metadata": {},
   "outputs": [],
   "source": []
  }
 ],
 "metadata": {
  "kernelspec": {
   "display_name": "Python 3",
   "language": "python",
   "name": "python3"
  },
  "language_info": {
   "codemirror_mode": {
    "name": "ipython",
    "version": 3
   },
   "file_extension": ".py",
   "mimetype": "text/x-python",
   "name": "python",
   "nbconvert_exporter": "python",
   "pygments_lexer": "ipython3",
   "version": "3.8.3"
  }
 },
 "nbformat": 4,
 "nbformat_minor": 4
}
