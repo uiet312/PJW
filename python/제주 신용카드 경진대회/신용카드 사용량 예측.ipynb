{
 "cells": [
  {
   "cell_type": "markdown",
   "metadata": {
    "colab_type": "text",
    "id": "KIjZmyhnmvAn"
   },
   "source": [
    "신용카드 사용 내역 데이터(2019.01 ~ 2020.03)를 활용한 지역별, 업종별 월간 카드 사용 총액(2020.04) 예측\n",
    "\n",
    "데이터셋 출처 : https://dacon.io/competitions/official/235615/overview/"
   ]
  },
  {
   "cell_type": "markdown",
   "metadata": {
    "colab_type": "text",
    "id": "0K8M8x_TmvAo"
   },
   "source": [
    "# 데이터셋 이해"
   ]
  },
  {
   "cell_type": "markdown",
   "metadata": {
    "colab_type": "text",
    "id": "ZIDxz5F0mvAp"
   },
   "source": [
    "REG_YYMM : 날짜\n",
    "\n",
    "CARD_SIDO_NM : 카드이용지역_시도 (가맹점 주소 기준)\n",
    "\n",
    "CARD_CCG_NM : 카드이용지역_시군구 (가맹점 주소 기준)\n",
    "\n",
    "STD_CLSS_NM : 업종명\n",
    "\n",
    "HOM_SIDO_NM : 거주지역_시도, (고객 집주소 기준)\n",
    "\n",
    "HOM_CCG_NM : 거주지역_시군구 (고객 집주소 기준)\n",
    "\n",
    "AGE : 연령대\n",
    "\n",
    "SEX_CTGO_CD : 성별 (1: 남성, 2: 여성)\n",
    "\n",
    "FLC : 가구생애주기 (1: 1인가구, 2: 영유아자녀가구, 3: 중고생자녀가구, 4: 성인자녀가구, 5: 노년가구)\n",
    "\n",
    "CSTMR_CNT : 이용고객수 (명)\n",
    "\n",
    "AMT : 이용금액 (원)\n",
    "\n",
    "CNT : 이용건수 (건)"
   ]
  },
  {
   "cell_type": "markdown",
   "metadata": {
    "colab_type": "text",
    "id": "HcF2L4ULmvAq"
   },
   "source": [
    "# 데이터 전처리"
   ]
  },
  {
   "cell_type": "code",
   "execution_count": 1,
   "metadata": {
    "colab": {},
    "colab_type": "code",
    "executionInfo": {
     "elapsed": 1041,
     "status": "ok",
     "timestamp": 1598258515569,
     "user": {
      "displayName": "최준용",
      "photoUrl": "https://lh3.googleusercontent.com/-U6zQTu6Lwz0/AAAAAAAAAAI/AAAAAAAAADw/2IhyPg8CSQ4/s64/photo.jpg",
      "userId": "00641977661366988058"
     },
     "user_tz": -540
    },
    "id": "g8d5gHFomvAr"
   },
   "outputs": [],
   "source": [
    "import pandas as pd\n",
    "import numpy as np\n",
    "from sklearn.preprocessing import LabelEncoder\n",
    "import lightgbm as lgb\n",
    "pd.options.display.float_format = '{:.1f}'.format"
   ]
  },
  {
   "cell_type": "code",
   "execution_count": 2,
   "metadata": {
    "colab": {
     "base_uri": "https://localhost:8080/",
     "height": 204
    },
    "colab_type": "code",
    "executionInfo": {
     "elapsed": 40922,
     "status": "ok",
     "timestamp": 1598258268786,
     "user": {
      "displayName": "최준용",
      "photoUrl": "https://lh3.googleusercontent.com/-U6zQTu6Lwz0/AAAAAAAAAAI/AAAAAAAAADw/2IhyPg8CSQ4/s64/photo.jpg",
      "userId": "00641977661366988058"
     },
     "user_tz": -540
    },
    "id": "7xObGaXymvAv",
    "outputId": "2485ce14-008a-401e-ffb4-9f537ee6acae"
   },
   "outputs": [
    {
     "data": {
      "text/html": [
       "<div>\n",
       "<style scoped>\n",
       "    .dataframe tbody tr th:only-of-type {\n",
       "        vertical-align: middle;\n",
       "    }\n",
       "\n",
       "    .dataframe tbody tr th {\n",
       "        vertical-align: top;\n",
       "    }\n",
       "\n",
       "    .dataframe thead th {\n",
       "        text-align: right;\n",
       "    }\n",
       "</style>\n",
       "<table border=\"1\" class=\"dataframe\">\n",
       "  <thead>\n",
       "    <tr style=\"text-align: right;\">\n",
       "      <th></th>\n",
       "      <th>REG_YYMM</th>\n",
       "      <th>CARD_SIDO_NM</th>\n",
       "      <th>CARD_CCG_NM</th>\n",
       "      <th>STD_CLSS_NM</th>\n",
       "      <th>HOM_SIDO_NM</th>\n",
       "      <th>HOM_CCG_NM</th>\n",
       "      <th>AGE</th>\n",
       "      <th>SEX_CTGO_CD</th>\n",
       "      <th>FLC</th>\n",
       "      <th>CSTMR_CNT</th>\n",
       "      <th>AMT</th>\n",
       "      <th>CNT</th>\n",
       "    </tr>\n",
       "  </thead>\n",
       "  <tbody>\n",
       "    <tr>\n",
       "      <th>0</th>\n",
       "      <td>201901</td>\n",
       "      <td>강원</td>\n",
       "      <td>강릉시</td>\n",
       "      <td>건강보조식품 소매업</td>\n",
       "      <td>강원</td>\n",
       "      <td>강릉시</td>\n",
       "      <td>20s</td>\n",
       "      <td>1</td>\n",
       "      <td>1</td>\n",
       "      <td>4</td>\n",
       "      <td>311200</td>\n",
       "      <td>4</td>\n",
       "    </tr>\n",
       "    <tr>\n",
       "      <th>1</th>\n",
       "      <td>201901</td>\n",
       "      <td>강원</td>\n",
       "      <td>강릉시</td>\n",
       "      <td>건강보조식품 소매업</td>\n",
       "      <td>강원</td>\n",
       "      <td>강릉시</td>\n",
       "      <td>30s</td>\n",
       "      <td>1</td>\n",
       "      <td>2</td>\n",
       "      <td>7</td>\n",
       "      <td>1374500</td>\n",
       "      <td>8</td>\n",
       "    </tr>\n",
       "    <tr>\n",
       "      <th>2</th>\n",
       "      <td>201901</td>\n",
       "      <td>강원</td>\n",
       "      <td>강릉시</td>\n",
       "      <td>건강보조식품 소매업</td>\n",
       "      <td>강원</td>\n",
       "      <td>강릉시</td>\n",
       "      <td>30s</td>\n",
       "      <td>2</td>\n",
       "      <td>2</td>\n",
       "      <td>6</td>\n",
       "      <td>818700</td>\n",
       "      <td>6</td>\n",
       "    </tr>\n",
       "    <tr>\n",
       "      <th>3</th>\n",
       "      <td>201901</td>\n",
       "      <td>강원</td>\n",
       "      <td>강릉시</td>\n",
       "      <td>건강보조식품 소매업</td>\n",
       "      <td>강원</td>\n",
       "      <td>강릉시</td>\n",
       "      <td>40s</td>\n",
       "      <td>1</td>\n",
       "      <td>3</td>\n",
       "      <td>4</td>\n",
       "      <td>1717000</td>\n",
       "      <td>5</td>\n",
       "    </tr>\n",
       "    <tr>\n",
       "      <th>4</th>\n",
       "      <td>201901</td>\n",
       "      <td>강원</td>\n",
       "      <td>강릉시</td>\n",
       "      <td>건강보조식품 소매업</td>\n",
       "      <td>강원</td>\n",
       "      <td>강릉시</td>\n",
       "      <td>40s</td>\n",
       "      <td>1</td>\n",
       "      <td>4</td>\n",
       "      <td>3</td>\n",
       "      <td>1047300</td>\n",
       "      <td>3</td>\n",
       "    </tr>\n",
       "  </tbody>\n",
       "</table>\n",
       "</div>"
      ],
      "text/plain": [
       "   REG_YYMM CARD_SIDO_NM CARD_CCG_NM STD_CLSS_NM HOM_SIDO_NM HOM_CCG_NM  AGE  \\\n",
       "0    201901           강원         강릉시  건강보조식품 소매업          강원        강릉시  20s   \n",
       "1    201901           강원         강릉시  건강보조식품 소매업          강원        강릉시  30s   \n",
       "2    201901           강원         강릉시  건강보조식품 소매업          강원        강릉시  30s   \n",
       "3    201901           강원         강릉시  건강보조식품 소매업          강원        강릉시  40s   \n",
       "4    201901           강원         강릉시  건강보조식품 소매업          강원        강릉시  40s   \n",
       "\n",
       "   SEX_CTGO_CD  FLC  CSTMR_CNT      AMT  CNT  \n",
       "0            1    1          4   311200    4  \n",
       "1            1    2          7  1374500    8  \n",
       "2            2    2          6   818700    6  \n",
       "3            1    3          4  1717000    5  \n",
       "4            1    4          3  1047300    3  "
      ]
     },
     "execution_count": 2,
     "metadata": {},
     "output_type": "execute_result"
    }
   ],
   "source": [
    "data = pd.read_csv('data/201901-202003.csv')\n",
    "data.head()"
   ]
  },
  {
   "cell_type": "code",
   "execution_count": 3,
   "metadata": {
    "colab": {},
    "colab_type": "code",
    "executionInfo": {
     "elapsed": 733,
     "status": "ok",
     "timestamp": 1598258220059,
     "user": {
      "displayName": "최준용",
      "photoUrl": "https://lh3.googleusercontent.com/-U6zQTu6Lwz0/AAAAAAAAAAI/AAAAAAAAADw/2IhyPg8CSQ4/s64/photo.jpg",
      "userId": "00641977661366988058"
     },
     "user_tz": -540
    },
    "id": "Fz0dwE-HmvAy"
   },
   "outputs": [],
   "source": [
    "# 날짜 처리\n",
    "# REG_YYMM 컬럼은 8자리 숫자 형식으로 되어 있으므로 각각 연도와 월로 나눈다.\n",
    "\n",
    "def grap_year(data):\n",
    "    data = str(data)\n",
    "    return int(data[:4])\n",
    "\n",
    "def grap_month(data):\n",
    "    data = str(data)\n",
    "    return int(data[4:])"
   ]
  },
  {
   "cell_type": "code",
   "execution_count": 4,
   "metadata": {
    "colab": {},
    "colab_type": "code",
    "executionInfo": {
     "elapsed": 45801,
     "status": "ok",
     "timestamp": 1598258316641,
     "user": {
      "displayName": "최준용",
      "photoUrl": "https://lh3.googleusercontent.com/-U6zQTu6Lwz0/AAAAAAAAAAI/AAAAAAAAADw/2IhyPg8CSQ4/s64/photo.jpg",
      "userId": "00641977661366988058"
     },
     "user_tz": -540
    },
    "id": "X1ZcQji7mvA0"
   },
   "outputs": [],
   "source": [
    "data = data.fillna('')\n",
    "data['year'] = data['REG_YYMM'].apply(lambda x: grap_year(x))\n",
    "data['month'] = data['REG_YYMM'].apply(lambda x: grap_month(x))\n",
    "data = data.drop(['REG_YYMM'], axis=1)"
   ]
  },
  {
   "cell_type": "code",
   "execution_count": 5,
   "metadata": {
    "colab": {},
    "colab_type": "code",
    "executionInfo": {
     "elapsed": 31864,
     "status": "ok",
     "timestamp": 1598258473572,
     "user": {
      "displayName": "최준용",
      "photoUrl": "https://lh3.googleusercontent.com/-U6zQTu6Lwz0/AAAAAAAAAAI/AAAAAAAAADw/2IhyPg8CSQ4/s64/photo.jpg",
      "userId": "00641977661366988058"
     },
     "user_tz": -540
    },
    "id": "ZvomUCaZmvA4"
   },
   "outputs": [],
   "source": [
    "df = data.copy()\n",
    "\n",
    "columns = ['CARD_SIDO_NM', 'STD_CLSS_NM','HOM_CCG_NM','CARD_CCG_NM', 'HOM_SIDO_NM', 'AGE', 'SEX_CTGO_CD', 'FLC', 'year', 'month']\n",
    "df = df.groupby(columns).sum().reset_index(drop=False)"
   ]
  },
  {
   "cell_type": "code",
   "execution_count": 6,
   "metadata": {
    "colab": {},
    "colab_type": "code",
    "executionInfo": {
     "elapsed": 11878,
     "status": "ok",
     "timestamp": 1598258490270,
     "user": {
      "displayName": "최준용",
      "photoUrl": "https://lh3.googleusercontent.com/-U6zQTu6Lwz0/AAAAAAAAAAI/AAAAAAAAADw/2IhyPg8CSQ4/s64/photo.jpg",
      "userId": "00641977661366988058"
     },
     "user_tz": -540
    },
    "id": "kwV0Szthns2Y"
   },
   "outputs": [],
   "source": [
    "group = df.groupby(['CARD_SIDO_NM','STD_CLSS_NM']).sum()\n",
    "df1 = df.set_index(['CARD_SIDO_NM','STD_CLSS_NM'])"
   ]
  },
  {
   "cell_type": "markdown",
   "metadata": {
    "colab_type": "text",
    "id": "wBeJ-EFnmvBC"
   },
   "source": [
    "# EDA"
   ]
  },
  {
   "cell_type": "markdown",
   "metadata": {},
   "source": [
    "- 업종별로 카드 사용량의 차이가 큼\n",
    "- 코로나의 여파로 카드 총 사용량은 변하지 않음\n",
    "- 코로나의 여파로 업종별로 카드 사용량이 변하는걸 알 수 있음"
   ]
  },
  {
   "cell_type": "code",
   "execution_count": 7,
   "metadata": {
    "colab": {},
    "colab_type": "code",
    "id": "WKyVyw_KmvBI"
   },
   "outputs": [
    {
     "data": {
      "text/html": [
       "<div>\n",
       "<style scoped>\n",
       "    .dataframe tbody tr th:only-of-type {\n",
       "        vertical-align: middle;\n",
       "    }\n",
       "\n",
       "    .dataframe tbody tr th {\n",
       "        vertical-align: top;\n",
       "    }\n",
       "\n",
       "    .dataframe thead th {\n",
       "        text-align: right;\n",
       "    }\n",
       "</style>\n",
       "<table border=\"1\" class=\"dataframe\">\n",
       "  <thead>\n",
       "    <tr style=\"text-align: right;\">\n",
       "      <th></th>\n",
       "      <th></th>\n",
       "      <th>AMT</th>\n",
       "    </tr>\n",
       "    <tr>\n",
       "      <th>month</th>\n",
       "      <th>STD_CLSS_NM</th>\n",
       "      <th></th>\n",
       "    </tr>\n",
       "  </thead>\n",
       "  <tbody>\n",
       "    <tr>\n",
       "      <th rowspan=\"5\" valign=\"top\">1</th>\n",
       "      <th>건강보조식품 소매업</th>\n",
       "      <td>8605074944</td>\n",
       "    </tr>\n",
       "    <tr>\n",
       "      <th>골프장 운영업</th>\n",
       "      <td>11968748603</td>\n",
       "    </tr>\n",
       "    <tr>\n",
       "      <th>과실 및 채소 소매업</th>\n",
       "      <td>44453112689</td>\n",
       "    </tr>\n",
       "    <tr>\n",
       "      <th>관광 민예품 및 선물용품 소매업</th>\n",
       "      <td>955750428</td>\n",
       "    </tr>\n",
       "    <tr>\n",
       "      <th>그외 기타 분류안된 오락관련 서비스업</th>\n",
       "      <td>1017500</td>\n",
       "    </tr>\n",
       "    <tr>\n",
       "      <th>...</th>\n",
       "      <th>...</th>\n",
       "      <td>...</td>\n",
       "    </tr>\n",
       "    <tr>\n",
       "      <th rowspan=\"5\" valign=\"top\">12</th>\n",
       "      <th>피자 햄버거 샌드위치 및 유사 음식점업</th>\n",
       "      <td>75293316726</td>\n",
       "    </tr>\n",
       "    <tr>\n",
       "      <th>한식 음식점업</th>\n",
       "      <td>1024610072785</td>\n",
       "    </tr>\n",
       "    <tr>\n",
       "      <th>호텔업</th>\n",
       "      <td>21380718943</td>\n",
       "    </tr>\n",
       "    <tr>\n",
       "      <th>화장품 및 방향제 소매업</th>\n",
       "      <td>40400412420</td>\n",
       "    </tr>\n",
       "    <tr>\n",
       "      <th>휴양콘도 운영업</th>\n",
       "      <td>5293795864</td>\n",
       "    </tr>\n",
       "  </tbody>\n",
       "</table>\n",
       "<p>492 rows × 1 columns</p>\n",
       "</div>"
      ],
      "text/plain": [
       "                                       AMT\n",
       "month STD_CLSS_NM                         \n",
       "1     건강보조식품 소매업                8605074944\n",
       "      골프장 운영업                  11968748603\n",
       "      과실 및 채소 소매업              44453112689\n",
       "      관광 민예품 및 선물용품 소매업          955750428\n",
       "      그외 기타 분류안된 오락관련 서비스업         1017500\n",
       "...                                    ...\n",
       "12    피자 햄버거 샌드위치 및 유사 음식점업    75293316726\n",
       "      한식 음식점업                1024610072785\n",
       "      호텔업                      21380718943\n",
       "      화장품 및 방향제 소매업            40400412420\n",
       "      휴양콘도 운영업                  5293795864\n",
       "\n",
       "[492 rows x 1 columns]"
      ]
     },
     "execution_count": 7,
     "metadata": {},
     "output_type": "execute_result"
    }
   ],
   "source": [
    "df_q = df.groupby(['year','month','STD_CLSS_NM']).agg({'AMT':'sum'})\n",
    "df_q = df_q.loc[2019]\n",
    "df_q"
   ]
  },
  {
   "cell_type": "code",
   "execution_count": 8,
   "metadata": {
    "colab": {},
    "colab_type": "code",
    "id": "4jaeKqbDmvBN"
   },
   "outputs": [
    {
     "data": {
      "text/html": [
       "<div>\n",
       "<style scoped>\n",
       "    .dataframe tbody tr th:only-of-type {\n",
       "        vertical-align: middle;\n",
       "    }\n",
       "\n",
       "    .dataframe tbody tr th {\n",
       "        vertical-align: top;\n",
       "    }\n",
       "\n",
       "    .dataframe thead th {\n",
       "        text-align: right;\n",
       "    }\n",
       "</style>\n",
       "<table border=\"1\" class=\"dataframe\">\n",
       "  <thead>\n",
       "    <tr style=\"text-align: right;\">\n",
       "      <th></th>\n",
       "      <th></th>\n",
       "      <th>AMT</th>\n",
       "    </tr>\n",
       "    <tr>\n",
       "      <th>month</th>\n",
       "      <th>STD_CLSS_NM</th>\n",
       "      <th></th>\n",
       "    </tr>\n",
       "  </thead>\n",
       "  <tbody>\n",
       "    <tr>\n",
       "      <th rowspan=\"5\" valign=\"top\">1</th>\n",
       "      <th>건강보조식품 소매업</th>\n",
       "      <td>10380995655</td>\n",
       "    </tr>\n",
       "    <tr>\n",
       "      <th>골프장 운영업</th>\n",
       "      <td>13414089759</td>\n",
       "    </tr>\n",
       "    <tr>\n",
       "      <th>과실 및 채소 소매업</th>\n",
       "      <td>55612798228</td>\n",
       "    </tr>\n",
       "    <tr>\n",
       "      <th>관광 민예품 및 선물용품 소매업</th>\n",
       "      <td>981629002</td>\n",
       "    </tr>\n",
       "    <tr>\n",
       "      <th>그외 기타 분류안된 오락관련 서비스업</th>\n",
       "      <td>1390350</td>\n",
       "    </tr>\n",
       "    <tr>\n",
       "      <th>...</th>\n",
       "      <th>...</th>\n",
       "      <td>...</td>\n",
       "    </tr>\n",
       "    <tr>\n",
       "      <th rowspan=\"5\" valign=\"top\">3</th>\n",
       "      <th>피자 햄버거 샌드위치 및 유사 음식점업</th>\n",
       "      <td>65972238656</td>\n",
       "    </tr>\n",
       "    <tr>\n",
       "      <th>한식 음식점업</th>\n",
       "      <td>666573459086</td>\n",
       "    </tr>\n",
       "    <tr>\n",
       "      <th>호텔업</th>\n",
       "      <td>5073633041</td>\n",
       "    </tr>\n",
       "    <tr>\n",
       "      <th>화장품 및 방향제 소매업</th>\n",
       "      <td>31002789304</td>\n",
       "    </tr>\n",
       "    <tr>\n",
       "      <th>휴양콘도 운영업</th>\n",
       "      <td>1093634463</td>\n",
       "    </tr>\n",
       "  </tbody>\n",
       "</table>\n",
       "<p>123 rows × 1 columns</p>\n",
       "</div>"
      ],
      "text/plain": [
       "                                      AMT\n",
       "month STD_CLSS_NM                        \n",
       "1     건강보조식품 소매업              10380995655\n",
       "      골프장 운영업                 13414089759\n",
       "      과실 및 채소 소매업             55612798228\n",
       "      관광 민예품 및 선물용품 소매업         981629002\n",
       "      그외 기타 분류안된 오락관련 서비스업        1390350\n",
       "...                                   ...\n",
       "3     피자 햄버거 샌드위치 및 유사 음식점업   65972238656\n",
       "      한식 음식점업                666573459086\n",
       "      호텔업                      5073633041\n",
       "      화장품 및 방향제 소매업           31002789304\n",
       "      휴양콘도 운영업                 1093634463\n",
       "\n",
       "[123 rows x 1 columns]"
      ]
     },
     "execution_count": 8,
     "metadata": {},
     "output_type": "execute_result"
    }
   ],
   "source": [
    "df_q = df.groupby(['year','month','STD_CLSS_NM']).agg({'AMT':'sum'})\n",
    "df_q = df_q.loc[2020]\n",
    "df_q"
   ]
  },
  {
   "cell_type": "markdown",
   "metadata": {
    "colab_type": "text",
    "id": "bU0HN8JomvBg"
   },
   "source": [
    "# 모델링\n",
    "\n",
    "- 앞서 시행한 데이터 전처리와 EDA를 참고하여 for문을 통한 모델 구축\n",
    "- 업종별로 데이터를 분할해서 모델링을 함\n",
    "- 최종적으로 필요한 예측한 데이터셋 생성"
   ]
  },
  {
   "cell_type": "code",
   "execution_count": null,
   "metadata": {
    "colab": {
     "base_uri": "https://localhost:8080/",
     "height": 1000
    },
    "colab_type": "code",
    "executionInfo": {
     "elapsed": 379476,
     "status": "ok",
     "timestamp": 1598258898201,
     "user": {
      "displayName": "최준용",
      "photoUrl": "https://lh3.googleusercontent.com/-U6zQTu6Lwz0/AAAAAAAAAAI/AAAAAAAAADw/2IhyPg8CSQ4/s64/photo.jpg",
      "userId": "00641977661366988058"
     },
     "user_tz": -540
    },
    "id": "9p4KZZGkmvBh",
    "outputId": "d19756b6-7186-4f55-9a6b-9c763d3fa2ee"
   },
   "outputs": [],
   "source": [
    "predict = pd.DataFrame()\n",
    "# df = df.drop(['HOM_CCG_NM', 'CARD_CCG_NM'], axis=1)\n",
    "for i,j in group.index:\n",
    "    df = df1.loc[i,j] # 1번 강원-건강보조식품\n",
    "\n",
    "    columns = ['CARD_SIDO_NM', 'STD_CLSS_NM', 'HOM_SIDO_NM', 'AGE', 'SEX_CTGO_CD', 'FLC', 'year', 'month']\n",
    "    df = df.groupby(columns).sum().reset_index(drop=False) # 시군구 자동 드랍\n",
    "\n",
    "    # 라벨 인코딩\n",
    "    df_re = df.copy()\n",
    "    columns = ['CARD_SIDO_NM', 'STD_CLSS_NM', 'HOM_SIDO_NM','AGE']\n",
    "    for r in columns:\n",
    "      encoder = LabelEncoder()\n",
    "      encoded = encoder.fit(df[r])\n",
    "      df_re[r] = encoded.transform(df[r])\n",
    "\n",
    "  \n",
    "    # feature, target 설정\n",
    "    train_num = df_re.sample(frac=1, random_state=0)\n",
    "    x = train_num.drop(['CSTMR_CNT', 'AMT', 'CNT'], axis=1)\n",
    "    y = np.log1p(train_num['AMT'])\n",
    "\n",
    "    try:\n",
    "      k = int(len(x)*0.9)\n",
    "\n",
    "      x_train = x[:k]\n",
    "      y_train = y[:k]\n",
    "      x_val = x[k:]\n",
    "      y_val = y[k:]\n",
    "\n",
    "      train_ds = lgb.Dataset(x_train, label=y_train)\n",
    "      val_ds = lgb.Dataset(x_val, label=y_val)\n",
    "\n",
    "      params = {'learning_rate' : 0.05,\n",
    "                  'boosting_type': 'gbdt',\n",
    "                  'objective': 'tweedie',\n",
    "                  'tweedie_variance_power': 1.1,\n",
    "                  'metric': 'rmse',\n",
    "                  'sub_row' : 0.75,\n",
    "                  'lambda_l2' : 0.1\n",
    "                  }\n",
    "\n",
    "      model = lgb.train(params,\n",
    "                          train_ds,\n",
    "                          1000,\n",
    "                          val_ds,\n",
    "                          verbose_eval = 100,\n",
    "                          early_stopping_rounds = 100\n",
    "                          )\n",
    "    \n",
    "      # 예측 템플릿 만들기\n",
    "      CARD_SIDO_NMs = df_re['CARD_SIDO_NM'].unique()\n",
    "      STD_CLSS_NMs  = df_re['STD_CLSS_NM'].unique()\n",
    "      HOM_SIDO_NMs  = df_re['HOM_SIDO_NM'].unique()\n",
    "      AGEs          = df_re['AGE'].unique()\n",
    "      SEX_CTGO_CDs  = df_re['SEX_CTGO_CD'].unique()\n",
    "      FLCs          = df_re['FLC'].unique()\n",
    "      years         = [2020]\n",
    "      months        = [4]\n",
    "\n",
    "      temp = []\n",
    "      for CARD_SIDO_NM in CARD_SIDO_NMs:\n",
    "        for STD_CLSS_NM in STD_CLSS_NMs:\n",
    "          for HOM_SIDO_NM in HOM_SIDO_NMs:\n",
    "            for AGE in AGEs:\n",
    "              for SEX_CTGO_CD in SEX_CTGO_CDs:\n",
    "                for FLC in FLCs:\n",
    "                  for year in years:\n",
    "                    for month in months:\n",
    "                      temp.append([CARD_SIDO_NM, STD_CLSS_NM, HOM_SIDO_NM, AGE, SEX_CTGO_CD, FLC, year, month])\n",
    "\n",
    "      temp = np.array(temp)\n",
    "      temp = pd.DataFrame(data=temp, columns=x.columns)\n",
    "\n",
    "        \n",
    "      pred = model.predict(temp)\n",
    "      pred = np.expm1(pred)\n",
    "\n",
    "      temp['AMT'] = np.round(pred, 0)\n",
    "\n",
    "      temp['REG_YYMM'] = temp['year']*100 + temp['month']\n",
    "      temp = temp[['REG_YYMM', 'AMT']]\n",
    "\n",
    "      temp = temp.groupby('REG_YYMM').sum().reset_index(drop=False)\n",
    "\n",
    "      temp['CARD_SIDO_NM'] = i\n",
    "      temp['STD_CLSS_NM'] = j\n",
    "      predict = predict.append(temp)\n",
    "      print(i,j,\"done\")\n",
    "\n",
    "    except:\n",
    "      temp = pd.DataFrame()\n",
    "      temp['REG_YYMM']=[202004]\n",
    "      temp['CARD_SIDO_NM'] = i\n",
    "      temp['STD_CLSS_NM'] = j\n",
    "      temp['AMT']=0\n",
    "      predict = predict.append(temp)\n",
    "      print(i,j,\"done\")"
   ]
  },
  {
   "cell_type": "markdown",
   "metadata": {
    "colab_type": "text",
    "id": "0De98vW4mvBs"
   },
   "source": [
    "# 결과 해석 및 평가"
   ]
  },
  {
   "cell_type": "markdown",
   "metadata": {
    "colab_type": "text",
    "id": "z8E8ocDumvBt"
   },
   "source": [
    "- 4월 amt 가 들어간 데이터프레임 생성\n",
    "- r2score(정확도)\n",
    "- rmsle(오차율)\n"
   ]
  },
  {
   "cell_type": "code",
   "execution_count": 14,
   "metadata": {
    "colab": {
     "base_uri": "https://localhost:8080/",
     "height": 419
    },
    "colab_type": "code",
    "executionInfo": {
     "elapsed": 3780,
     "status": "ok",
     "timestamp": 1598258951187,
     "user": {
      "displayName": "최준용",
      "photoUrl": "https://lh3.googleusercontent.com/-U6zQTu6Lwz0/AAAAAAAAAAI/AAAAAAAAADw/2IhyPg8CSQ4/s64/photo.jpg",
      "userId": "00641977661366988058"
     },
     "user_tz": -540
    },
    "id": "LJoIgbTFmvBl",
    "outputId": "79f89bac-f2db-477b-e8fe-eec3c2767a56"
   },
   "outputs": [
    {
     "data": {
      "text/html": [
       "<div>\n",
       "<style scoped>\n",
       "    .dataframe tbody tr th:only-of-type {\n",
       "        vertical-align: middle;\n",
       "    }\n",
       "\n",
       "    .dataframe tbody tr th {\n",
       "        vertical-align: top;\n",
       "    }\n",
       "\n",
       "    .dataframe thead th {\n",
       "        text-align: right;\n",
       "    }\n",
       "</style>\n",
       "<table border=\"1\" class=\"dataframe\">\n",
       "  <thead>\n",
       "    <tr style=\"text-align: right;\">\n",
       "      <th></th>\n",
       "      <th>REG_YYMM</th>\n",
       "      <th>CARD_SIDO_NM</th>\n",
       "      <th>STD_CLSS_NM</th>\n",
       "      <th>AMT</th>\n",
       "    </tr>\n",
       "  </thead>\n",
       "  <tbody>\n",
       "    <tr>\n",
       "      <th>0</th>\n",
       "      <td>202004</td>\n",
       "      <td>강원</td>\n",
       "      <td>건강보조식품 소매업</td>\n",
       "      <td>88823988</td>\n",
       "    </tr>\n",
       "    <tr>\n",
       "      <th>1</th>\n",
       "      <td>202004</td>\n",
       "      <td>강원</td>\n",
       "      <td>골프장 운영업</td>\n",
       "      <td>4708346820</td>\n",
       "    </tr>\n",
       "    <tr>\n",
       "      <th>2</th>\n",
       "      <td>202004</td>\n",
       "      <td>강원</td>\n",
       "      <td>과실 및 채소 소매업</td>\n",
       "      <td>1121028924</td>\n",
       "    </tr>\n",
       "    <tr>\n",
       "      <th>3</th>\n",
       "      <td>202004</td>\n",
       "      <td>강원</td>\n",
       "      <td>관광 민예품 및 선물용품 소매업</td>\n",
       "      <td>14360780</td>\n",
       "    </tr>\n",
       "    <tr>\n",
       "      <th>4</th>\n",
       "      <td>202004</td>\n",
       "      <td>강원</td>\n",
       "      <td>그외 기타 스포츠시설 운영업</td>\n",
       "      <td>227200</td>\n",
       "    </tr>\n",
       "    <tr>\n",
       "      <th>...</th>\n",
       "      <td>...</td>\n",
       "      <td>...</td>\n",
       "      <td>...</td>\n",
       "      <td>...</td>\n",
       "    </tr>\n",
       "    <tr>\n",
       "      <th>605</th>\n",
       "      <td>202004</td>\n",
       "      <td>충북</td>\n",
       "      <td>피자 햄버거 샌드위치 및 유사 음식점업</td>\n",
       "      <td>1373635928</td>\n",
       "    </tr>\n",
       "    <tr>\n",
       "      <th>606</th>\n",
       "      <td>202004</td>\n",
       "      <td>충북</td>\n",
       "      <td>한식 음식점업</td>\n",
       "      <td>18911036160</td>\n",
       "    </tr>\n",
       "    <tr>\n",
       "      <th>607</th>\n",
       "      <td>202004</td>\n",
       "      <td>충북</td>\n",
       "      <td>호텔업</td>\n",
       "      <td>14121500</td>\n",
       "    </tr>\n",
       "    <tr>\n",
       "      <th>608</th>\n",
       "      <td>202004</td>\n",
       "      <td>충북</td>\n",
       "      <td>화장품 및 방향제 소매업</td>\n",
       "      <td>450507431</td>\n",
       "    </tr>\n",
       "    <tr>\n",
       "      <th>609</th>\n",
       "      <td>202004</td>\n",
       "      <td>충북</td>\n",
       "      <td>휴양콘도 운영업</td>\n",
       "      <td>9328420</td>\n",
       "    </tr>\n",
       "  </tbody>\n",
       "</table>\n",
       "<p>610 rows × 4 columns</p>\n",
       "</div>"
      ],
      "text/plain": [
       "     REG_YYMM CARD_SIDO_NM            STD_CLSS_NM          AMT\n",
       "0      202004           강원             건강보조식품 소매업     88823988\n",
       "1      202004           강원                골프장 운영업   4708346820\n",
       "2      202004           강원            과실 및 채소 소매업   1121028924\n",
       "3      202004           강원      관광 민예품 및 선물용품 소매업     14360780\n",
       "4      202004           강원        그외 기타 스포츠시설 운영업       227200\n",
       "..        ...          ...                    ...          ...\n",
       "605    202004           충북  피자 햄버거 샌드위치 및 유사 음식점업   1373635928\n",
       "606    202004           충북                한식 음식점업  18911036160\n",
       "607    202004           충북                    호텔업     14121500\n",
       "608    202004           충북          화장품 및 방향제 소매업    450507431\n",
       "609    202004           충북               휴양콘도 운영업      9328420\n",
       "\n",
       "[610 rows x 4 columns]"
      ]
     },
     "execution_count": 14,
     "metadata": {
      "tags": []
     },
     "output_type": "execute_result"
    }
   ],
   "source": [
    "data4 = pd.read_csv('202004.csv')\n",
    "true = data4.groupby(['REG_YYMM','CARD_SIDO_NM','STD_CLSS_NM']).sum()['AMT']\n",
    "true = true.reset_index()\n",
    "true"
   ]
  },
  {
   "cell_type": "code",
   "execution_count": 15,
   "metadata": {
    "colab": {
     "base_uri": "https://localhost:8080/",
     "height": 419
    },
    "colab_type": "code",
    "executionInfo": {
     "elapsed": 987,
     "status": "ok",
     "timestamp": 1598258959343,
     "user": {
      "displayName": "최준용",
      "photoUrl": "https://lh3.googleusercontent.com/-U6zQTu6Lwz0/AAAAAAAAAAI/AAAAAAAAADw/2IhyPg8CSQ4/s64/photo.jpg",
      "userId": "00641977661366988058"
     },
     "user_tz": -540
    },
    "id": "69PZByMpmvBn",
    "outputId": "c9949474-ff17-45b6-841e-766d4c6604ac"
   },
   "outputs": [
    {
     "data": {
      "text/html": [
       "<div>\n",
       "<style scoped>\n",
       "    .dataframe tbody tr th:only-of-type {\n",
       "        vertical-align: middle;\n",
       "    }\n",
       "\n",
       "    .dataframe tbody tr th {\n",
       "        vertical-align: top;\n",
       "    }\n",
       "\n",
       "    .dataframe thead th {\n",
       "        text-align: right;\n",
       "    }\n",
       "</style>\n",
       "<table border=\"1\" class=\"dataframe\">\n",
       "  <thead>\n",
       "    <tr style=\"text-align: right;\">\n",
       "      <th></th>\n",
       "      <th>REG_YYMM</th>\n",
       "      <th>CARD_SIDO_NM</th>\n",
       "      <th>STD_CLSS_NM</th>\n",
       "      <th>AMT_x</th>\n",
       "      <th>AMT_y</th>\n",
       "    </tr>\n",
       "  </thead>\n",
       "  <tbody>\n",
       "    <tr>\n",
       "      <th>0</th>\n",
       "      <td>202004</td>\n",
       "      <td>강원</td>\n",
       "      <td>건강보조식품 소매업</td>\n",
       "      <td>88823988</td>\n",
       "      <td>648944525.0</td>\n",
       "    </tr>\n",
       "    <tr>\n",
       "      <th>1</th>\n",
       "      <td>202004</td>\n",
       "      <td>강원</td>\n",
       "      <td>골프장 운영업</td>\n",
       "      <td>4708346820</td>\n",
       "      <td>7231832130.0</td>\n",
       "    </tr>\n",
       "    <tr>\n",
       "      <th>2</th>\n",
       "      <td>202004</td>\n",
       "      <td>강원</td>\n",
       "      <td>과실 및 채소 소매업</td>\n",
       "      <td>1121028924</td>\n",
       "      <td>1658780475.0</td>\n",
       "    </tr>\n",
       "    <tr>\n",
       "      <th>3</th>\n",
       "      <td>202004</td>\n",
       "      <td>강원</td>\n",
       "      <td>관광 민예품 및 선물용품 소매업</td>\n",
       "      <td>14360780</td>\n",
       "      <td>119170098.0</td>\n",
       "    </tr>\n",
       "    <tr>\n",
       "      <th>4</th>\n",
       "      <td>202004</td>\n",
       "      <td>강원</td>\n",
       "      <td>그외 기타 스포츠시설 운영업</td>\n",
       "      <td>227200</td>\n",
       "      <td>29440774.0</td>\n",
       "    </tr>\n",
       "    <tr>\n",
       "      <th>...</th>\n",
       "      <td>...</td>\n",
       "      <td>...</td>\n",
       "      <td>...</td>\n",
       "      <td>...</td>\n",
       "      <td>...</td>\n",
       "    </tr>\n",
       "    <tr>\n",
       "      <th>605</th>\n",
       "      <td>202004</td>\n",
       "      <td>충북</td>\n",
       "      <td>피자 햄버거 샌드위치 및 유사 음식점업</td>\n",
       "      <td>1373635928</td>\n",
       "      <td>1883766293.0</td>\n",
       "    </tr>\n",
       "    <tr>\n",
       "      <th>606</th>\n",
       "      <td>202004</td>\n",
       "      <td>충북</td>\n",
       "      <td>한식 음식점업</td>\n",
       "      <td>18911036160</td>\n",
       "      <td>25947535389.0</td>\n",
       "    </tr>\n",
       "    <tr>\n",
       "      <th>607</th>\n",
       "      <td>202004</td>\n",
       "      <td>충북</td>\n",
       "      <td>호텔업</td>\n",
       "      <td>14121500</td>\n",
       "      <td>137416177.0</td>\n",
       "    </tr>\n",
       "    <tr>\n",
       "      <th>608</th>\n",
       "      <td>202004</td>\n",
       "      <td>충북</td>\n",
       "      <td>화장품 및 방향제 소매업</td>\n",
       "      <td>450507431</td>\n",
       "      <td>797091811.0</td>\n",
       "    </tr>\n",
       "    <tr>\n",
       "      <th>609</th>\n",
       "      <td>202004</td>\n",
       "      <td>충북</td>\n",
       "      <td>휴양콘도 운영업</td>\n",
       "      <td>9328420</td>\n",
       "      <td>192755607.0</td>\n",
       "    </tr>\n",
       "  </tbody>\n",
       "</table>\n",
       "<p>610 rows × 5 columns</p>\n",
       "</div>"
      ],
      "text/plain": [
       "     REG_YYMM CARD_SIDO_NM            STD_CLSS_NM        AMT_x         AMT_y\n",
       "0      202004           강원             건강보조식품 소매업     88823988   648944525.0\n",
       "1      202004           강원                골프장 운영업   4708346820  7231832130.0\n",
       "2      202004           강원            과실 및 채소 소매업   1121028924  1658780475.0\n",
       "3      202004           강원      관광 민예품 및 선물용품 소매업     14360780   119170098.0\n",
       "4      202004           강원        그외 기타 스포츠시설 운영업       227200    29440774.0\n",
       "..        ...          ...                    ...          ...           ...\n",
       "605    202004           충북  피자 햄버거 샌드위치 및 유사 음식점업   1373635928  1883766293.0\n",
       "606    202004           충북                한식 음식점업  18911036160 25947535389.0\n",
       "607    202004           충북                    호텔업     14121500   137416177.0\n",
       "608    202004           충북          화장품 및 방향제 소매업    450507431   797091811.0\n",
       "609    202004           충북               휴양콘도 운영업      9328420   192755607.0\n",
       "\n",
       "[610 rows x 5 columns]"
      ]
     },
     "execution_count": 15,
     "metadata": {
      "tags": []
     },
     "output_type": "execute_result"
    }
   ],
   "source": [
    "real = pd.merge(true, predict, how = 'left', on =['REG_YYMM', 'CARD_SIDO_NM','STD_CLSS_NM'] )\n",
    "real = real.fillna(0)\n",
    "real"
   ]
  },
  {
   "cell_type": "code",
   "execution_count": null,
   "metadata": {
    "colab": {},
    "colab_type": "code",
    "id": "Ms0JxjttmvBq"
   },
   "outputs": [],
   "source": [
    "from sklearn.metrics import mean_squared_log_error\n",
    "np.sqrt(mean_squared_log_error(real.AMT_x, real.AMT_y))"
   ]
  },
  {
   "cell_type": "code",
   "execution_count": null,
   "metadata": {
    "colab": {},
    "colab_type": "code",
    "id": "nQKdKrrtmvBw"
   },
   "outputs": [],
   "source": []
  }
 ],
 "metadata": {
  "accelerator": "GPU",
  "colab": {
   "collapsed_sections": [],
   "machine_shape": "hm",
   "name": "JEJU_깃허브 업로드!.ipynb",
   "provenance": [
    {
     "file_id": "155S_bb3viIoL0wAwkIyr1r8XQu4ARwA9",
     "timestamp": 1594824965991
    }
   ],
   "toc_visible": true
  },
  "kernelspec": {
   "display_name": "Python 3",
   "language": "python",
   "name": "python3"
  },
  "language_info": {
   "codemirror_mode": {
    "name": "ipython",
    "version": 3
   },
   "file_extension": ".py",
   "mimetype": "text/x-python",
   "name": "python",
   "nbconvert_exporter": "python",
   "pygments_lexer": "ipython3",
   "version": "3.8.3"
  }
 },
 "nbformat": 4,
 "nbformat_minor": 1
}
